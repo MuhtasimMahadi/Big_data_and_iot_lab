{
  "cells": [
    {
      "cell_type": "markdown",
      "metadata": {
        "id": "view-in-github",
        "colab_type": "text"
      },
      "source": [
        "<a href=\"https://colab.research.google.com/github/MuhtasimMahadi/Big_data_and_iot_lab/blob/main/Tensors.ipynb\" target=\"_parent\"><img src=\"https://colab.research.google.com/assets/colab-badge.svg\" alt=\"Open In Colab\"/></a>"
      ]
    },
    {
      "cell_type": "code",
      "execution_count": null,
      "id": "f6d5aaa0",
      "metadata": {
        "id": "f6d5aaa0"
      },
      "outputs": [],
      "source": [
        "import torch\n",
        "import numpy as np"
      ]
    },
    {
      "cell_type": "code",
      "execution_count": null,
      "id": "54eb9df4",
      "metadata": {
        "id": "54eb9df4",
        "outputId": "f111bed9-4ab9-4965-edd1-1885ebc7c5d9"
      },
      "outputs": [
        {
          "data": {
            "text/plain": [
              "tensor([[1, 2],\n",
              "        [3, 4]])"
            ]
          },
          "execution_count": 4,
          "metadata": {},
          "output_type": "execute_result"
        }
      ],
      "source": [
        "data=[[1,2],[3,4]]\n",
        "x_data= torch.tensor(data)\n",
        "x_data"
      ]
    },
    {
      "cell_type": "code",
      "execution_count": null,
      "id": "d747914c",
      "metadata": {
        "id": "d747914c",
        "outputId": "70510744-b2fa-4670-a4c3-cc0dd4ce9653"
      },
      "outputs": [
        {
          "data": {
            "text/plain": [
              "array([[1, 2],\n",
              "       [3, 4]])"
            ]
          },
          "execution_count": 5,
          "metadata": {},
          "output_type": "execute_result"
        }
      ],
      "source": [
        "arr=np.array(data)\n",
        "arr"
      ]
    },
    {
      "cell_type": "code",
      "execution_count": null,
      "id": "c535d922",
      "metadata": {
        "id": "c535d922",
        "outputId": "41f129b1-8a91-4ab4-e850-166a08803692"
      },
      "outputs": [
        {
          "data": {
            "text/plain": [
              "tensor([[1, 2],\n",
              "        [3, 4]], dtype=torch.int32)"
            ]
          },
          "execution_count": 6,
          "metadata": {},
          "output_type": "execute_result"
        }
      ],
      "source": [
        "x=torch.from_numpy(arr)\n",
        "x"
      ]
    },
    {
      "cell_type": "code",
      "execution_count": null,
      "id": "8b0cf6f3",
      "metadata": {
        "id": "8b0cf6f3",
        "outputId": "5180ca6f-8380-4045-e48b-2b285d296bc8"
      },
      "outputs": [
        {
          "data": {
            "text/plain": [
              "tensor([[1, 1],\n",
              "        [1, 1]], dtype=torch.int32)"
            ]
          },
          "execution_count": 8,
          "metadata": {},
          "output_type": "execute_result"
        }
      ],
      "source": [
        "x_ones= torch.ones_like(x)\n",
        "x_ones"
      ]
    },
    {
      "cell_type": "code",
      "execution_count": null,
      "id": "7c49c27c",
      "metadata": {
        "id": "7c49c27c",
        "outputId": "456120d9-5ac0-4cfd-8978-a0f169002180"
      },
      "outputs": [
        {
          "data": {
            "text/plain": [
              "tensor([[0, 0],\n",
              "        [0, 0]], dtype=torch.int32)"
            ]
          },
          "execution_count": 6,
          "metadata": {},
          "output_type": "execute_result"
        }
      ],
      "source": [
        "x_zeros= torch.zeros_like(x)\n",
        "x_zeros"
      ]
    },
    {
      "cell_type": "code",
      "execution_count": null,
      "id": "8ac2e096",
      "metadata": {
        "id": "8ac2e096",
        "outputId": "4693e856-7f68-4fac-945b-8476bdb1077e"
      },
      "outputs": [
        {
          "data": {
            "text/plain": [
              "tensor([[0.3538, 0.6149],\n",
              "        [0.8535, 0.5190]])"
            ]
          },
          "execution_count": 9,
          "metadata": {},
          "output_type": "execute_result"
        }
      ],
      "source": [
        "x_rand= torch.rand_like(x, dtype=torch.float)\n",
        "x_rand"
      ]
    },
    {
      "cell_type": "code",
      "execution_count": null,
      "id": "a942fd8d",
      "metadata": {
        "id": "a942fd8d",
        "outputId": "1bf09d14-b6a6-46e4-93a2-f1347f17cc60"
      },
      "outputs": [
        {
          "data": {
            "text/plain": [
              "tensor([[0.0137, 0.1747, 0.1486],\n",
              "        [0.1581, 0.8486, 0.2128]])"
            ]
          },
          "execution_count": 10,
          "metadata": {},
          "output_type": "execute_result"
        }
      ],
      "source": [
        "rand_tensor= torch.rand(2,3)\n",
        "rand_tensor"
      ]
    },
    {
      "cell_type": "code",
      "execution_count": null,
      "id": "1255f929",
      "metadata": {
        "id": "1255f929",
        "outputId": "0b2b08ac-c980-4417-9f4b-56bdf943150c"
      },
      "outputs": [
        {
          "data": {
            "text/plain": [
              "tensor([[1., 1., 1.],\n",
              "        [1., 1., 1.]])"
            ]
          },
          "execution_count": 11,
          "metadata": {},
          "output_type": "execute_result"
        }
      ],
      "source": [
        "ones_tensor= torch.ones(2,3, dtype=torch.float32)\n",
        "ones_tensor"
      ]
    },
    {
      "cell_type": "code",
      "execution_count": null,
      "id": "6c82df3c",
      "metadata": {
        "id": "6c82df3c",
        "outputId": "c48025f4-c731-4a37-cbb2-3b4088ca15a7"
      },
      "outputs": [
        {
          "data": {
            "text/plain": [
              "tensor([[0., 0., 0.],\n",
              "        [0., 0., 0.]])"
            ]
          },
          "execution_count": 12,
          "metadata": {},
          "output_type": "execute_result"
        }
      ],
      "source": [
        "zeros_tensor= torch.zeros(2,3)\n",
        "zeros_tensor"
      ]
    },
    {
      "cell_type": "code",
      "execution_count": null,
      "id": "06e097d4",
      "metadata": {
        "id": "06e097d4",
        "outputId": "0d542ec7-1e46-46ea-e40a-b9780d697573"
      },
      "outputs": [
        {
          "data": {
            "text/plain": [
              "torch.Size([2, 3])"
            ]
          },
          "execution_count": 13,
          "metadata": {},
          "output_type": "execute_result"
        }
      ],
      "source": [
        "rand_tensor.shape"
      ]
    },
    {
      "cell_type": "code",
      "execution_count": null,
      "id": "de6eada5",
      "metadata": {
        "id": "de6eada5",
        "outputId": "69c67f6e-0ea6-432c-a11b-a5d0b4ed9b26"
      },
      "outputs": [
        {
          "data": {
            "text/plain": [
              "torch.float32"
            ]
          },
          "execution_count": 14,
          "metadata": {},
          "output_type": "execute_result"
        }
      ],
      "source": [
        "rand_tensor.dtype"
      ]
    },
    {
      "cell_type": "code",
      "execution_count": null,
      "id": "1d923a62",
      "metadata": {
        "id": "1d923a62",
        "outputId": "a784ac6e-5f93-49db-fc25-0bb99420a71f"
      },
      "outputs": [
        {
          "data": {
            "text/plain": [
              "device(type='cpu')"
            ]
          },
          "execution_count": 15,
          "metadata": {},
          "output_type": "execute_result"
        }
      ],
      "source": [
        "rand_tensor.device"
      ]
    },
    {
      "cell_type": "code",
      "execution_count": null,
      "id": "baf06bea",
      "metadata": {
        "id": "baf06bea"
      },
      "outputs": [],
      "source": [
        "if torch.cuda.is_available():\n",
        "    rand_tensor = rand_tensor.to('cuda')"
      ]
    },
    {
      "cell_type": "code",
      "execution_count": null,
      "id": "addc0f46",
      "metadata": {
        "id": "addc0f46",
        "outputId": "8281d77d-d258-4283-acdd-d9c98b4b8db8"
      },
      "outputs": [
        {
          "data": {
            "text/plain": [
              "tensor([[0.0137, 0.1747, 0.1486],\n",
              "        [0.1581, 0.8486, 0.2128]])"
            ]
          },
          "execution_count": 17,
          "metadata": {},
          "output_type": "execute_result"
        }
      ],
      "source": [
        " rand_tensor"
      ]
    },
    {
      "cell_type": "code",
      "execution_count": null,
      "id": "789e2b78",
      "metadata": {
        "id": "789e2b78",
        "outputId": "aaa7ce2c-6118-43c2-90a9-180476d29bd5"
      },
      "outputs": [
        {
          "data": {
            "text/plain": [
              "tensor([[0.0137, 1.0000, 0.1486],\n",
              "        [0.1581, 1.0000, 0.2128]])"
            ]
          },
          "execution_count": 18,
          "metadata": {},
          "output_type": "execute_result"
        }
      ],
      "source": [
        "rand_tensor[:,1]=1\n",
        "rand_tensor"
      ]
    },
    {
      "cell_type": "code",
      "execution_count": null,
      "id": "b1ba89e1",
      "metadata": {
        "id": "b1ba89e1",
        "outputId": "a627c2d4-5790-4e2f-e06c-76eb5811ab6d"
      },
      "outputs": [
        {
          "data": {
            "text/plain": [
              "tensor([0.0137, 1.0000, 0.1486])"
            ]
          },
          "execution_count": 19,
          "metadata": {},
          "output_type": "execute_result"
        }
      ],
      "source": [
        "rand_tensor[0]"
      ]
    },
    {
      "cell_type": "code",
      "execution_count": null,
      "id": "d147b3b2",
      "metadata": {
        "id": "d147b3b2",
        "outputId": "d3c7654e-60de-45fe-b97c-daed524c6a9a"
      },
      "outputs": [
        {
          "data": {
            "text/plain": [
              "tensor([0.0137, 0.1581])"
            ]
          },
          "execution_count": 20,
          "metadata": {},
          "output_type": "execute_result"
        }
      ],
      "source": [
        "rand_tensor[:,0]"
      ]
    },
    {
      "cell_type": "code",
      "execution_count": null,
      "id": "b3cb4dad",
      "metadata": {
        "id": "b3cb4dad",
        "outputId": "e5027d87-7ff2-4044-a82e-ebcf2a613f99"
      },
      "outputs": [
        {
          "data": {
            "text/plain": [
              "tensor([0.1486, 0.2128])"
            ]
          },
          "execution_count": 21,
          "metadata": {},
          "output_type": "execute_result"
        }
      ],
      "source": [
        "rand_tensor[...,-1]"
      ]
    },
    {
      "cell_type": "code",
      "execution_count": null,
      "id": "9c1e9707",
      "metadata": {
        "id": "9c1e9707",
        "outputId": "dade5569-81bc-4987-a9a4-df55bf7edfc4"
      },
      "outputs": [
        {
          "data": {
            "text/plain": [
              "tensor(2.5332)"
            ]
          },
          "execution_count": 22,
          "metadata": {},
          "output_type": "execute_result"
        }
      ],
      "source": [
        "rand_tensor.sum()"
      ]
    },
    {
      "cell_type": "code",
      "execution_count": null,
      "id": "13f6ca2c",
      "metadata": {
        "id": "13f6ca2c",
        "outputId": "bf42e58e-8c2f-4a0f-9d4e-04aa1c7ff915"
      },
      "outputs": [
        {
          "data": {
            "text/plain": [
              "2.533215284347534"
            ]
          },
          "execution_count": 23,
          "metadata": {},
          "output_type": "execute_result"
        }
      ],
      "source": [
        "rand_tensor.sum().item()"
      ]
    },
    {
      "cell_type": "code",
      "execution_count": null,
      "id": "0dc9ff6f",
      "metadata": {
        "id": "0dc9ff6f",
        "outputId": "44a3f9fd-8d02-445b-dbae-45f418e995ef"
      },
      "outputs": [
        {
          "data": {
            "text/plain": [
              "tensor([[0.0137, 1.0000, 0.1486, 0.0000, 0.0000, 0.0000],\n",
              "        [0.1581, 1.0000, 0.2128, 0.0000, 0.0000, 0.0000]])"
            ]
          },
          "execution_count": 24,
          "metadata": {},
          "output_type": "execute_result"
        }
      ],
      "source": [
        "t1= torch.cat([rand_tensor, zeros_tensor],dim=1)\n",
        "t1"
      ]
    },
    {
      "cell_type": "code",
      "execution_count": null,
      "id": "75cda023",
      "metadata": {
        "id": "75cda023",
        "outputId": "c57b2610-7403-48db-b13e-1005e0f948ee"
      },
      "outputs": [
        {
          "data": {
            "text/plain": [
              "tensor([[0.0137, 1.0000, 0.1486],\n",
              "        [0.1581, 1.0000, 0.2128],\n",
              "        [0.0000, 0.0000, 0.0000],\n",
              "        [0.0000, 0.0000, 0.0000]])"
            ]
          },
          "execution_count": 25,
          "metadata": {},
          "output_type": "execute_result"
        }
      ],
      "source": [
        "t2= torch.cat([rand_tensor, zeros_tensor],dim=0)\n",
        "t2"
      ]
    },
    {
      "cell_type": "code",
      "execution_count": null,
      "id": "1ae20314",
      "metadata": {
        "id": "1ae20314",
        "outputId": "2523cb02-3017-4eea-e4c8-7c259e373461"
      },
      "outputs": [
        {
          "data": {
            "text/plain": [
              "tensor([[0.0137, 1.0000, 0.1486],\n",
              "        [0.1581, 1.0000, 0.2128]])"
            ]
          },
          "execution_count": 26,
          "metadata": {},
          "output_type": "execute_result"
        }
      ],
      "source": [
        "rand_tensor.mul(ones_tensor)"
      ]
    },
    {
      "cell_type": "code",
      "execution_count": null,
      "id": "ab397f6c",
      "metadata": {
        "id": "ab397f6c",
        "outputId": "6358c38f-fd0f-4720-cc96-d42d0a835f7f"
      },
      "outputs": [
        {
          "data": {
            "text/plain": [
              "tensor([[1.0223, 1.0338],\n",
              "        [1.0338, 1.0703]])"
            ]
          },
          "execution_count": 27,
          "metadata": {},
          "output_type": "execute_result"
        }
      ],
      "source": [
        "rand_tensor.matmul(rand_tensor.T)"
      ]
    },
    {
      "cell_type": "code",
      "execution_count": null,
      "id": "c2678701",
      "metadata": {
        "id": "c2678701",
        "outputId": "9cecfb19-d5bf-4a73-abbe-6a3d94300530"
      },
      "outputs": [
        {
          "data": {
            "text/plain": [
              "tensor([[5.0137, 6.0000, 5.1486],\n",
              "        [5.1581, 6.0000, 5.2128]])"
            ]
          },
          "execution_count": 28,
          "metadata": {},
          "output_type": "execute_result"
        }
      ],
      "source": [
        "rand_tensor.add_(5)"
      ]
    },
    {
      "cell_type": "code",
      "execution_count": null,
      "id": "a914df74",
      "metadata": {
        "id": "a914df74",
        "outputId": "b85a64da-ed25-4e8a-b57b-3317550359a6"
      },
      "outputs": [
        {
          "data": {
            "text/plain": [
              "array([1., 1., 1., 1., 1.])"
            ]
          },
          "execution_count": 29,
          "metadata": {},
          "output_type": "execute_result"
        }
      ],
      "source": [
        "n= np.ones(5)\n",
        "n"
      ]
    },
    {
      "cell_type": "code",
      "execution_count": null,
      "id": "7239be0f",
      "metadata": {
        "id": "7239be0f",
        "outputId": "8d76e4eb-a180-4d47-a363-3c1f74f16d01"
      },
      "outputs": [
        {
          "data": {
            "text/plain": [
              "tensor([1., 1., 1., 1., 1.], dtype=torch.float64)"
            ]
          },
          "execution_count": 30,
          "metadata": {},
          "output_type": "execute_result"
        }
      ],
      "source": [
        "t=torch.from_numpy(n)\n",
        "t"
      ]
    },
    {
      "cell_type": "code",
      "execution_count": null,
      "id": "0fcf8463",
      "metadata": {
        "id": "0fcf8463",
        "outputId": "4c89dea0-21b5-4b2f-b4ff-655f060b90f8"
      },
      "outputs": [
        {
          "data": {
            "text/plain": [
              "tensor([2., 2., 2., 2., 2.], dtype=torch.float64)"
            ]
          },
          "execution_count": 31,
          "metadata": {},
          "output_type": "execute_result"
        }
      ],
      "source": [
        "t.add_(1)"
      ]
    },
    {
      "cell_type": "code",
      "execution_count": null,
      "id": "767d2790",
      "metadata": {
        "id": "767d2790",
        "outputId": "3dff02f3-b3e6-46a1-e65f-188004c6072b"
      },
      "outputs": [
        {
          "name": "stdout",
          "output_type": "stream",
          "text": [
            "tensor([3.5873e-43])\n"
          ]
        }
      ],
      "source": [
        "x = torch.empty(1)\n",
        "print(x)"
      ]
    },
    {
      "cell_type": "code",
      "execution_count": null,
      "id": "57edc9ef",
      "metadata": {
        "id": "57edc9ef",
        "outputId": "3865828d-9385-47de-d9f5-51123e7cf2fb"
      },
      "outputs": [
        {
          "data": {
            "text/plain": [
              "torch.Size([1])"
            ]
          },
          "execution_count": 33,
          "metadata": {},
          "output_type": "execute_result"
        }
      ],
      "source": [
        "x.size()"
      ]
    },
    {
      "cell_type": "code",
      "execution_count": null,
      "id": "381bcc02",
      "metadata": {
        "id": "381bcc02",
        "outputId": "db06e4b4-3ecf-48a1-f2e4-d9f56bb085ef"
      },
      "outputs": [
        {
          "name": "stdout",
          "output_type": "stream",
          "text": [
            "tensor([[5.0137, 6.0000, 5.1486],\n",
            "        [5.1581, 6.0000, 5.2128]])\n"
          ]
        }
      ],
      "source": [
        "x = torch.empty(2,3)\n",
        "print(x)"
      ]
    },
    {
      "cell_type": "code",
      "execution_count": null,
      "id": "00ff73db",
      "metadata": {
        "id": "00ff73db",
        "outputId": "8485282d-8b71-4fe1-cade-ac6858a07457"
      },
      "outputs": [
        {
          "data": {
            "text/plain": [
              "tensor([[[0., 0., 0.],\n",
              "         [0., 0., 0.]],\n",
              "\n",
              "        [[0., 0., 0.],\n",
              "         [0., 0., 0.]]])"
            ]
          },
          "execution_count": 35,
          "metadata": {},
          "output_type": "execute_result"
        }
      ],
      "source": [
        "torch.empty(2,2,3)"
      ]
    },
    {
      "cell_type": "code",
      "execution_count": null,
      "id": "710a8b0a",
      "metadata": {
        "id": "710a8b0a",
        "outputId": "74bcea15-624f-4fdb-a4b8-0987aed78517"
      },
      "outputs": [
        {
          "data": {
            "text/plain": [
              "tensor([5.0137, 6.0000, 5.1486, 5.1581, 6.0000, 5.2128])"
            ]
          },
          "execution_count": 36,
          "metadata": {},
          "output_type": "execute_result"
        }
      ],
      "source": [
        "y=x.view(6)\n",
        "y"
      ]
    },
    {
      "cell_type": "code",
      "execution_count": null,
      "id": "3f9f3100",
      "metadata": {
        "id": "3f9f3100",
        "outputId": "aee2bf85-4147-49f4-de67-d39c8606a7e9"
      },
      "outputs": [
        {
          "data": {
            "text/plain": [
              "tensor([[5.0137, 6.0000, 5.1486, 5.1581, 6.0000, 5.2128]])"
            ]
          },
          "execution_count": 37,
          "metadata": {},
          "output_type": "execute_result"
        }
      ],
      "source": [
        "z=x.view(1,-1)\n",
        "z"
      ]
    },
    {
      "cell_type": "code",
      "execution_count": null,
      "id": "ef1cf9b1",
      "metadata": {
        "id": "ef1cf9b1",
        "outputId": "5429a161-0809-4361-e985-bd816fbcabc5"
      },
      "outputs": [
        {
          "data": {
            "text/plain": [
              "(tensor([[1., 1.],\n",
              "         [1., 1.]]),\n",
              " tensor([[1., 1.],\n",
              "         [1., 1.]]))"
            ]
          },
          "execution_count": 38,
          "metadata": {},
          "output_type": "execute_result"
        }
      ],
      "source": [
        "a= torch.ones(2,2)\n",
        "b= torch.ones(2,2)\n",
        "a,b"
      ]
    },
    {
      "cell_type": "code",
      "execution_count": null,
      "id": "115f2bee",
      "metadata": {
        "id": "115f2bee",
        "outputId": "67ecd4a3-eb5b-4c7b-db0b-ae612f791431"
      },
      "outputs": [
        {
          "data": {
            "text/plain": [
              "tensor([[2., 2.],\n",
              "        [2., 2.]])"
            ]
          },
          "execution_count": 39,
          "metadata": {},
          "output_type": "execute_result"
        }
      ],
      "source": [
        "a+b"
      ]
    },
    {
      "cell_type": "code",
      "execution_count": null,
      "id": "394d84ca",
      "metadata": {
        "id": "394d84ca",
        "outputId": "d8b166ca-4c5a-4241-e2ed-94103b82c05c"
      },
      "outputs": [
        {
          "data": {
            "text/plain": [
              "tensor([[0., 0.],\n",
              "        [0., 0.]])"
            ]
          },
          "execution_count": 40,
          "metadata": {},
          "output_type": "execute_result"
        }
      ],
      "source": [
        "a-b"
      ]
    },
    {
      "cell_type": "code",
      "execution_count": null,
      "id": "7f0a6ce5",
      "metadata": {
        "id": "7f0a6ce5",
        "outputId": "907993cb-1bef-4120-ac7e-2252c5afa47c"
      },
      "outputs": [
        {
          "data": {
            "text/plain": [
              "tensor([[1., 1.],\n",
              "        [1., 1.]])"
            ]
          },
          "execution_count": 41,
          "metadata": {},
          "output_type": "execute_result"
        }
      ],
      "source": [
        "a*b"
      ]
    },
    {
      "cell_type": "code",
      "execution_count": null,
      "id": "f5607395",
      "metadata": {
        "id": "f5607395",
        "outputId": "69e4bd23-843c-4495-d2f2-e5a761108bd6"
      },
      "outputs": [
        {
          "data": {
            "text/plain": [
              "tensor([[1., 1.],\n",
              "        [1., 1.]])"
            ]
          },
          "execution_count": 42,
          "metadata": {},
          "output_type": "execute_result"
        }
      ],
      "source": [
        "a/b"
      ]
    },
    {
      "cell_type": "code",
      "execution_count": null,
      "id": "7b39c12b",
      "metadata": {
        "id": "7b39c12b",
        "outputId": "18b44fe6-cf9c-4065-fd64-57f1068bac59"
      },
      "outputs": [
        {
          "data": {
            "text/plain": [
              "1.0"
            ]
          },
          "execution_count": 43,
          "metadata": {},
          "output_type": "execute_result"
        }
      ],
      "source": [
        "a[1,1].item()"
      ]
    },
    {
      "cell_type": "code",
      "execution_count": null,
      "id": "e4a12002",
      "metadata": {
        "id": "e4a12002",
        "outputId": "cdd9571d-2dad-4fd6-a20b-b4d1bf5cb938"
      },
      "outputs": [
        {
          "data": {
            "text/plain": [
              "tensor([[50, 50, 50],\n",
              "        [50, 50, 50]])"
            ]
          },
          "execution_count": 3,
          "metadata": {},
          "output_type": "execute_result"
        }
      ],
      "source": [
        "torch.full((2,3),50)"
      ]
    },
    {
      "cell_type": "code",
      "execution_count": null,
      "id": "2bc6ec0e",
      "metadata": {
        "id": "2bc6ec0e"
      },
      "outputs": [],
      "source": []
    }
  ],
  "metadata": {
    "kernelspec": {
      "display_name": "Python 3 (ipykernel)",
      "language": "python",
      "name": "python3"
    },
    "language_info": {
      "codemirror_mode": {
        "name": "ipython",
        "version": 3
      },
      "file_extension": ".py",
      "mimetype": "text/x-python",
      "name": "python",
      "nbconvert_exporter": "python",
      "pygments_lexer": "ipython3",
      "version": "3.9.13"
    },
    "colab": {
      "provenance": [],
      "include_colab_link": true
    }
  },
  "nbformat": 4,
  "nbformat_minor": 5
}